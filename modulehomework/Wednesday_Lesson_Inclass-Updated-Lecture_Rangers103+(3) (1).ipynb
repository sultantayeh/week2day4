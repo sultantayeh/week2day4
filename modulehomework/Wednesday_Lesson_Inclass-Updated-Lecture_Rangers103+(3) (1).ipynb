{
 "cells": [
  {
   "cell_type": "markdown",
   "metadata": {},
   "source": [
    "# Dictionaries, Sets, & Importing Modules"
   ]
  },
  {
   "cell_type": "markdown",
   "metadata": {},
   "source": [
    "## Tasks Today:\n",
    "\n",
    "1) Dictionary <br>\n",
    " &nbsp;&nbsp;&nbsp;&nbsp; a) Declaring (key, value) <br>\n",
    " &nbsp;&nbsp;&nbsp;&nbsp; b) Accessing Values <br>\n",
    " &nbsp;&nbsp;&nbsp;&nbsp; ------ Exercise #1 - Print the eye color of each person in a double nested dict <br>\n",
    " &nbsp;&nbsp;&nbsp;&nbsp; c) Adding New Pairs <br>\n",
    " &nbsp;&nbsp;&nbsp;&nbsp; d) Modifying Values <br>\n",
    " &nbsp;&nbsp;&nbsp;&nbsp; e) Removing Key, Value Pairs <br>\n",
    " &nbsp;&nbsp;&nbsp;&nbsp; f) Looping a Dictionary <br>\n",
    " &nbsp;&nbsp;&nbsp;&nbsp; g) Looping Only Keys <br>\n",
    " &nbsp;&nbsp;&nbsp;&nbsp; h) Looping Only Values <br>\n",
    " &nbsp;&nbsp;&nbsp;&nbsp; ------ Exercise #2 - Create a Function that Prints All Key Value Pairs within a print .format()  <br>\n",
    " &nbsp;&nbsp;&nbsp;&nbsp; i) sorted() <br>\n",
    " &nbsp;&nbsp;&nbsp;&nbsp; j) Lists with Dictionaries <br>\n",
    " &nbsp;&nbsp;&nbsp;&nbsp; k) Dictionaries with Lists <br>\n",
    " &nbsp;&nbsp;&nbsp;&nbsp; l) Dictionaries with Dictionaries <br>\n",
    " &nbsp;&nbsp;&nbsp;&nbsp; ------ Exercise #3 - Write a Function that asks someone's name and address, and then stores that into a dictionary, which prints all names and addresses after they're done putting information in...  <br>\n",
    "2) Dictionaries vs. Lists (over time)<br>\n",
    "3) Set <br>\n",
    " &nbsp;&nbsp;&nbsp;&nbsp; a) Declaring <br>\n",
    " &nbsp;&nbsp;&nbsp;&nbsp; b) .add() <br>\n",
    " &nbsp;&nbsp;&nbsp;&nbsp; c) .remove() <br>\n",
    " &nbsp;&nbsp;&nbsp;&nbsp; d) .union() <br>\n",
    " &nbsp;&nbsp;&nbsp;&nbsp; e) .intersection() <br>\n",
    " &nbsp;&nbsp;&nbsp;&nbsp; f) .difference() <br>\n",
    " &nbsp;&nbsp;&nbsp;&nbsp; g) Frozen Set <br>\n",
    "4) Modules <br>\n",
    " &nbsp;&nbsp;&nbsp;&nbsp; a) Importing Entire Modules <br>\n",
    " &nbsp;&nbsp;&nbsp;&nbsp; b) Importing Methods Only <br>\n",
    " &nbsp;&nbsp;&nbsp;&nbsp; c) Using the 'as' Keyword <br>\n",
    " &nbsp;&nbsp;&nbsp;&nbsp; d) Creating a Module <br>\n",
    "5) Exercises <br>\n",
    " &nbsp;&nbsp;&nbsp;&nbsp; a) Build a Shopping Cart <br>\n",
    " &nbsp;&nbsp;&nbsp;&nbsp; b) Create Your Own Module <br>"
   ]
  },
  {
   "cell_type": "markdown",
   "metadata": {},
   "source": [
    "## Dictionary <br>\n",
    "<p>A collection of data with 'key:value' pairs. Dictionaries are ordered as of Python 3.6</p>"
   ]
  },
  {
   "cell_type": "markdown",
   "metadata": {},
   "source": [
    "##### Declaring (key, value)"
   ]
  },
  {
   "cell_type": "code",
   "execution_count": 14,
   "metadata": {},
   "outputs": [],
   "source": [
    "# keys should be unique\n",
    "# can use numbers or strings as keys\n",
    "d_1 = {}\n",
    "\n",
    "# or\n",
    "\n",
    "d_2 = dict()\n",
    "\n",
    "# or\n",
    "\n",
    "d_3 = {\n",
    "    \"Tom\": \"257 Main Street\",\n",
    "    \"Jerry\": \"257 Main Street\",\n",
    "    \"Spike\": \"253 Main Street\",\n",
    "    0: \"This is a value of 0 for the key 0\"\n",
    "    \n",
    "}\n",
    "\n",
    "\n",
    "\n"
   ]
  },
  {
   "cell_type": "markdown",
   "metadata": {},
   "source": [
    "##### Accessing Values"
   ]
  },
  {
   "cell_type": "code",
   "execution_count": 15,
   "metadata": {},
   "outputs": [
    {
     "name": "stdout",
     "output_type": "stream",
     "text": [
      "257 Main Street\n",
      "This is a value of 0 for the key 0\n"
     ]
    }
   ],
   "source": [
    "# dict[key]\n",
    "print(d_3[\"Tom\"])\n",
    "\n",
    "print(d_3[0])\n",
    "\n",
    "\n"
   ]
  },
  {
   "cell_type": "markdown",
   "metadata": {},
   "source": [
    "## In-Class Exercise #1 - Print a formatted statement from the dictionary below <br>\n",
    "<p>The output should be '2018 Chevrolet Silverado'</p>"
   ]
  },
  {
   "cell_type": "code",
   "execution_count": null,
   "metadata": {},
   "outputs": [],
   "source": [
    "import random\n",
    "from time import sleep\n",
    "class_list = ['Perry', 'Cassie', 'Dyonne', 'Aften', 'Chris', 'Kathy', 'Steve',\n",
    "              'Raul', 'Tarun', 'Tyler', 'Katie', 'Kelsey', 'Teddie']\n",
    "for z in range(13):\n",
    "    random_name = random.choice(class_list)\n",
    "    print(random_name, end=' ', flush=True)\n",
    "    sleep(0.15)\n",
    "print(f\"<--- {random_name} you are it!\")"
   ]
  },
  {
   "cell_type": "code",
   "execution_count": 18,
   "metadata": {},
   "outputs": [
    {
     "name": "stdout",
     "output_type": "stream",
     "text": [
      "You own a 2018 Chevrolet Silverado .\n"
     ]
    }
   ],
   "source": [
    "# use the dict below\n",
    "truck = {\n",
    "    \"year\": 2018,\n",
    "    'make': 'Chevrolet',\n",
    "    'model': 'Silverado'\n",
    "}\n",
    "\n",
    "print(\"You own a\", truck[\"year\"], truck[\"make\"], truck[\"model\"], \".\")\n"
   ]
  },
  {
   "cell_type": "code",
   "execution_count": 19,
   "metadata": {},
   "outputs": [
    {
     "name": "stdout",
     "output_type": "stream",
     "text": [
      "2018 Chevrolet Silverado\n",
      "This is a dictionary\n"
     ]
    }
   ],
   "source": [
    "truck = {\n",
    "    \"year\": 2018,\n",
    "    'make': 'Chevrolet',\n",
    "    'model': 'Silverado'\n",
    "}\n",
    "\n",
    "print(truck[\"year\"], truck[\"make\"], truck[\"model\"])\n",
    "\n",
    "this_dict = {\n",
    "    1: 'This',\n",
    "    2: 'is',\n",
    "    3: 'a',\n",
    "    4: 'dictionary'\n",
    "}\n",
    "\n",
    "print(this_dict[1], this_dict[2], this_dict[3], this_dict[4])\n"
   ]
  },
  {
   "cell_type": "code",
   "execution_count": 20,
   "metadata": {},
   "outputs": [
    {
     "name": "stdout",
     "output_type": "stream",
     "text": [
      "2018 Chevrolet Silverado\n"
     ]
    }
   ],
   "source": [
    "truck = {\n",
    "    \"year\": 2018,\n",
    "    'make': 'Chevrolet',\n",
    "    'model': 'Silverado'\n",
    "}\n",
    "print(truck['year'],truck['make'], truck['model'])\n"
   ]
  },
  {
   "cell_type": "code",
   "execution_count": 21,
   "metadata": {},
   "outputs": [
    {
     "name": "stdout",
     "output_type": "stream",
     "text": [
      "This truck is a 2018 Chevrolet Silverado\n"
     ]
    }
   ],
   "source": [
    "truck = {\n",
    "    \"year\": 2018,\n",
    "    'make': 'Chevrolet',\n",
    "    'model': 'Silverado'\n",
    "}\n",
    "\n",
    "print(\"This truck is a \" + str(truck[\"year\"]) + \" \" + truck[\"make\"] + \" \" + truck[\"model\"])\n"
   ]
  },
  {
   "cell_type": "code",
   "execution_count": 22,
   "metadata": {},
   "outputs": [
    {
     "name": "stdout",
     "output_type": "stream",
     "text": [
      "2018 Chevrolet Silverado\n"
     ]
    }
   ],
   "source": [
    "# use the dict below\n",
    "truck = {\n",
    "    \"year\": 2018,\n",
    "    'make': 'Chevrolet',\n",
    "    'model': 'Silverado'\n",
    "}\n",
    "\n",
    "print(truck[\"year\"], truck[\"make\"], truck[\"model\"])\n"
   ]
  },
  {
   "cell_type": "code",
   "execution_count": 23,
   "metadata": {},
   "outputs": [
    {
     "name": "stdout",
     "output_type": "stream",
     "text": [
      "2018 Chevrolet Silverado\n"
     ]
    }
   ],
   "source": [
    "print(f'{truck[\"year\"]} {truck[\"make\"]} {truck[\"model\"]}')\n"
   ]
  },
  {
   "cell_type": "code",
   "execution_count": 24,
   "metadata": {},
   "outputs": [
    {
     "name": "stdout",
     "output_type": "stream",
     "text": [
      "2018 Chevrolet Silverado\n"
     ]
    }
   ],
   "source": [
    "print(str(truck[\"year\"])+\" \"+truck[\"make\"]+\" \"+truck[\"model\"])\n"
   ]
  },
  {
   "cell_type": "code",
   "execution_count": 27,
   "metadata": {},
   "outputs": [
    {
     "name": "stdout",
     "output_type": "stream",
     "text": [
      "This is a 2018 Chevrolet Silverado\n"
     ]
    }
   ],
   "source": [
    "print(f\"This is a {truck['year']} {truck['make']} {truck['model']}\")"
   ]
  },
  {
   "cell_type": "markdown",
   "metadata": {},
   "source": [
    "##### Adding New Pairs"
   ]
  },
  {
   "cell_type": "code",
   "execution_count": 40,
   "metadata": {},
   "outputs": [
    {
     "name": "stdout",
     "output_type": "stream",
     "text": [
      "{'Tom': '257 Main Street', 'Jerry': '257 Main Street', 'Spike': '253 Main Street', 0: 'This is a value of 0 for the key 0'}\n",
      "{'Tom': '257 Main Street', 'Jerry': '257 Main Street', 'Spike': '253 Main Street', 0: 'This is a value of 0 for the key 0', 'Tyke': '253 Main Street'}\n"
     ]
    }
   ],
   "source": [
    "# dict[key] = value\n",
    "d_3 = {\n",
    "    \"Tom\": \"257 Main Street\",\n",
    "    \"Jerry\": \"257 Main Street\",\n",
    "    \"Spike\": \"253 Main Street\",\n",
    "    0: \"This is a value of 0 for the key 0\"\n",
    "    \n",
    "}\n",
    "print(d_3)\n",
    "\n",
    "d_3[\"Tyke\"] = \"253 Main Street\"\n",
    "\n",
    "print(d_3)\n"
   ]
  },
  {
   "cell_type": "markdown",
   "metadata": {},
   "source": [
    "##### Modifying Values"
   ]
  },
  {
   "cell_type": "code",
   "execution_count": 41,
   "metadata": {},
   "outputs": [
    {
     "name": "stdout",
     "output_type": "stream",
     "text": [
      "257 Main Street\n",
      "258 Main Street\n"
     ]
    }
   ],
   "source": [
    "# dict[key] = value\n",
    "print(d_3[\"Tom\"])\n",
    "d_3[\"Tom\"] = \"258 Main Street\"\n",
    "print(d_3[\"Tom\"])"
   ]
  },
  {
   "cell_type": "markdown",
   "metadata": {},
   "source": [
    "##### Removing Key, Value Pairs"
   ]
  },
  {
   "cell_type": "code",
   "execution_count": 42,
   "metadata": {},
   "outputs": [
    {
     "name": "stdout",
     "output_type": "stream",
     "text": [
      "{'Tom': '258 Main Street', 'Jerry': '257 Main Street', 'Spike': '253 Main Street', 0: 'This is a value of 0 for the key 0', 'Tyke': '253 Main Street'}\n",
      "{'Tom': '258 Main Street', 'Jerry': '257 Main Street', 'Spike': '253 Main Street', 'Tyke': '253 Main Street'}\n"
     ]
    }
   ],
   "source": [
    "# del dict[key]\n",
    "print(d_3)\n",
    "\n",
    "del d_3[0]\n",
    "\n",
    "print(d_3)"
   ]
  },
  {
   "cell_type": "markdown",
   "metadata": {},
   "source": [
    "##### Looping a Dictionary"
   ]
  },
  {
   "cell_type": "code",
   "execution_count": 43,
   "metadata": {},
   "outputs": [
    {
     "name": "stdout",
     "output_type": "stream",
     "text": [
      "Tom   258 Main Street\n",
      "Jerry   257 Main Street\n",
      "Spike   253 Main Street\n",
      "Tyke   253 Main Street\n"
     ]
    }
   ],
   "source": [
    "# dict.items()\n",
    "# a, b, c = 1, 2, 3\n",
    "\n",
    "# d_3 = {\n",
    "#     \"Tom\": \"257 Main Street\",\n",
    "#     \"Jerry\": \"257 Main Street\",\n",
    "#     \"Spike\": \"253 Main Street\",\n",
    "#     0: \"This is a value of 0 for the key 0\"\n",
    "    \n",
    "# }\n",
    "\n",
    "for name, address in d_3.items():\n",
    "    print(name, \" \", address)\n",
    "\n"
   ]
  },
  {
   "cell_type": "markdown",
   "metadata": {},
   "source": [
    "##### Looping Only Keys"
   ]
  },
  {
   "cell_type": "code",
   "execution_count": 47,
   "metadata": {},
   "outputs": [
    {
     "name": "stdout",
     "output_type": "stream",
     "text": [
      "Tom\n",
      "Jerry\n",
      "Spike\n",
      "Tyke\n",
      "\n",
      "\n",
      "Tom\n",
      "Jerry\n",
      "Spike\n",
      "Tyke\n"
     ]
    }
   ],
   "source": [
    "# dict.keys()\n",
    "for key in d_3.keys():\n",
    "    print(key)\n",
    "print(\"\\n\")  \n",
    "for key in d_3:\n",
    "    print(key)\n"
   ]
  },
  {
   "cell_type": "markdown",
   "metadata": {},
   "source": [
    "##### Looping Only Values"
   ]
  },
  {
   "cell_type": "code",
   "execution_count": 51,
   "metadata": {},
   "outputs": [
    {
     "name": "stdout",
     "output_type": "stream",
     "text": [
      "Tarun Steve Perry Teddie Steve Dyonne Aften Perry Teddie Chris Kelsey Kelsey Cassie <--- Cassie you are it!\n"
     ]
    }
   ],
   "source": [
    "import random\n",
    "from time import sleep\n",
    "class_list = ['Perry', 'Cassie', 'Dyonne', 'Aften', 'Chris', 'Kathy', 'Steve',\n",
    "              'Raul', 'Tarun', 'Tyler', 'Katie', 'Kelsey', 'Teddie']\n",
    "for z in range(13):\n",
    "    random_name = random.choice(class_list)\n",
    "    print(random_name, end=' ', flush=True)\n",
    "    sleep(0.15)\n",
    "print(f\"<--- {random_name} you are it!\")"
   ]
  },
  {
   "cell_type": "code",
   "execution_count": 50,
   "metadata": {
    "scrolled": true
   },
   "outputs": [
    {
     "name": "stdout",
     "output_type": "stream",
     "text": [
      "258 Main Street\n",
      "257 Main Street\n",
      "253 Main Street\n",
      "253 Main Street\n",
      "\n",
      "\n",
      "['258 Main Street', '257 Main Street', '253 Main Street', '253 Main Street']\n"
     ]
    }
   ],
   "source": [
    "# dict.values()\n",
    "for value in d_3.values():\n",
    "    print(value)\n",
    "    \n",
    "print(\"\\n\")\n",
    "\n",
    "address_list = [value for value in d_3.values()]\n",
    "\n",
    "print(address_list)\n"
   ]
  },
  {
   "cell_type": "code",
   "execution_count": null,
   "metadata": {},
   "outputs": [],
   "source": []
  },
  {
   "cell_type": "code",
   "execution_count": 54,
   "metadata": {},
   "outputs": [
    {
     "name": "stdout",
     "output_type": "stream",
     "text": [
      "Your victims are saved for a little longer....muhahaha\n"
     ]
    }
   ],
   "source": [
    "from random import choice\n",
    "from time import sleep\n",
    "from IPython.display import clear_output\n",
    "\n",
    "class_list = ['Perry', 'Cassie', 'Dyonne', 'Aften', 'Chris', 'Kathy',' Steve','Raul', 'Tarun', 'Tyler','Katie', 'Kelsey', 'Teddie']\n",
    "\n",
    "class_dict = {}\n",
    "\n",
    "def random_selector(arr):\n",
    "\n",
    "    while True:\n",
    "        chosen = choice(arr)\n",
    "\n",
    "        if chosen in class_dict:\n",
    "            class_dict[chosen] += 1\n",
    "        else:\n",
    "            class_dict[chosen] = 1\n",
    "\n",
    "        if class_dict[chosen] > 1:\n",
    "            continue\n",
    "        else:\n",
    "            break\n",
    "    for z in range(5):\n",
    "        print('.', end=' ', flush=True)\n",
    "        sleep(0.5)\n",
    "  \n",
    "    return chosen\n",
    "\n",
    "def run():\n",
    "\n",
    "    while True:\n",
    "\n",
    "        choice = input(\"Would you like to pick another lucky victim (y/n)? Type 'quit' to quit. \")\n",
    "        clear_output()\n",
    "        if choice.lower() == 'y':\n",
    "            print(random_selector(class_list))\n",
    "        if choice.lower() in ['n', 'quit']:\n",
    "            return 'Your victims are saved for a little longer....muhahaha'\n",
    "            \n",
    "\n",
    "print(run())\n"
   ]
  },
  {
   "cell_type": "markdown",
   "metadata": {},
   "source": [
    "## In-Class Exercise #2 - Write a lil program that Prints All Key Value Pairs within an f string <br>\n",
    "<p><b>Output should be:</b><br>\n",
    "Max has blue eyes<br>\n",
    "Lilly has brown eyes<br>\n",
    "Barney has blue eyes<br>\n",
    "etc.\n",
    "</p>"
   ]
  },
  {
   "cell_type": "code",
   "execution_count": 55,
   "metadata": {},
   "outputs": [],
   "source": [
    "# use the dict below\n",
    "eye_balls = {\n",
    "    \"Max\": \"blue eyes\",\n",
    "    \"Lilly\": \"brown eyes\",\n",
    "    \"Barney\": \"Sharingan\"\n",
    "}"
   ]
  },
  {
   "cell_type": "code",
   "execution_count": 56,
   "metadata": {},
   "outputs": [
    {
     "name": "stdout",
     "output_type": "stream",
     "text": [
      "Max has blue eyes.\n",
      "Lilly has brown eyes.\n",
      "Barney has blue eyes.\n",
      "Sasuke has Sharingan eyes.\n"
     ]
    }
   ],
   "source": [
    "eyes = {\n",
    "    'max': 'blue',\n",
    "    'lilly': 'brown',\n",
    "    'barney': 'blue',\n",
    "    'sasuke': 'sharingan'\n",
    "}\n",
    "\n",
    "for name, eyes in eyes.items():\n",
    "    if eyes == 'sharingan':\n",
    "        print(name.title() + \" has \" + eyes.title() + \" eyes.\" )\n",
    "    else:\n",
    "        print(name.title() + \" has \" + eyes + \" eyes.\" )\n"
   ]
  },
  {
   "cell_type": "code",
   "execution_count": null,
   "metadata": {},
   "outputs": [],
   "source": [
    "eyes = {\n",
    "    'max': 'blue',\n",
    "    'lilly': 'brown',\n",
    "    'barney': 'blue',\n",
    "    'sasuke': 'sharingan'\n",
    "}\n",
    "\n",
    "for name, eyes in eyes.items():\n",
    "    if eyes == 'sharingan':\n",
    "        print(name.title() + \" has \" + eyes.title() + \" eyes.\" )\n",
    "    else:\n",
    "        print(name.title() + \" has \" + eyes + \" eyes.\" )\n"
   ]
  },
  {
   "cell_type": "code",
   "execution_count": 57,
   "metadata": {},
   "outputs": [
    {
     "name": "stdout",
     "output_type": "stream",
     "text": [
      "Max has blue eyes\n",
      "Lilly has brown eyes\n",
      "Barney has Sharingan\n"
     ]
    }
   ],
   "source": [
    "eyes = {\n",
    "    \"Max\": \"blue eyes\",\n",
    "    \"Lilly\": \"brown eyes\",\n",
    "    \"Barney\": \"Sharingan\"\n",
    "}\n",
    "\n",
    "for name, color in eyes.items():\n",
    "    print(name + \" has \" + color)\n"
   ]
  },
  {
   "cell_type": "code",
   "execution_count": 58,
   "metadata": {},
   "outputs": [
    {
     "name": "stdout",
     "output_type": "stream",
     "text": [
      "Max has blue eyes\n",
      "Lilly has brown eyes\n",
      "Barney has Sharingan eyes\n",
      "\n",
      "\n",
      "Max has blue eyes\n",
      "Lilly has brown eyes\n",
      "Barney has Sharingan eyes\n"
     ]
    }
   ],
   "source": [
    "# use the dict below\n",
    "\n",
    "eye_balls = {\n",
    "    \"Max\": \"blue\",\n",
    "    \"Lilly\": \"brown\",\n",
    "    \"Barney\": \"Sharingan\",\n",
    "}\n",
    "   \n",
    "for key, value in eye_balls.items():\n",
    "    print(f\"{key} has {value} eyes\")\n",
    "\n",
    "print(\"\\n\")\n",
    "    \n",
    "for key, value in eye_balls.items():\n",
    "    print(\"{} has {} eyes\".format(key, value))\n"
   ]
  },
  {
   "cell_type": "code",
   "execution_count": 59,
   "metadata": {},
   "outputs": [
    {
     "name": "stdout",
     "output_type": "stream",
     "text": [
      "Max has blue eyes\n",
      "Lilly has brown eyes\n",
      "Barney has Sharingan\n"
     ]
    }
   ],
   "source": [
    "eye_balls = {\n",
    "    \"Max\": \"blue eyes\",\n",
    "    \"Lilly\": \"brown eyes\",\n",
    "    \"Barney\": \"Sharingan\"\n",
    "}\n",
    "for keyx, valuex in eye_balls.items():\n",
    "    print(keyx, \"has\",valuex)\n"
   ]
  },
  {
   "cell_type": "code",
   "execution_count": 60,
   "metadata": {},
   "outputs": [
    {
     "name": "stdout",
     "output_type": "stream",
     "text": [
      "Max has blue eyes\n",
      "Lilly has brown eyes\n",
      "Barney has Sharingan\n"
     ]
    }
   ],
   "source": [
    "print(\"Max has \" + (eye_balls[\"Max\"]))\n",
    "print(\"Lilly has \" + (eye_balls[\"Lilly\"]))\n",
    "print(\"Barney has \" + (eye_balls[\"Barney\"]))\n"
   ]
  },
  {
   "cell_type": "markdown",
   "metadata": {},
   "source": [
    "##### sorted()"
   ]
  },
  {
   "cell_type": "code",
   "execution_count": 61,
   "metadata": {},
   "outputs": [
    {
     "name": "stdout",
     "output_type": "stream",
     "text": [
      ". . . . . Cassie\n"
     ]
    },
    {
     "ename": "KeyboardInterrupt",
     "evalue": "Interrupted by user",
     "output_type": "error",
     "traceback": [
      "\u001b[1;31m---------------------------------------------------------------------------\u001b[0m",
      "\u001b[1;31mKeyboardInterrupt\u001b[0m                         Traceback (most recent call last)",
      "Input \u001b[1;32mIn [61]\u001b[0m, in \u001b[0;36m<cell line: 41>\u001b[1;34m()\u001b[0m\n\u001b[0;32m     37\u001b[0m         \u001b[38;5;28;01mif\u001b[39;00m choice\u001b[38;5;241m.\u001b[39mlower() \u001b[38;5;129;01min\u001b[39;00m [\u001b[38;5;124m'\u001b[39m\u001b[38;5;124mn\u001b[39m\u001b[38;5;124m'\u001b[39m, \u001b[38;5;124m'\u001b[39m\u001b[38;5;124mquit\u001b[39m\u001b[38;5;124m'\u001b[39m]:\n\u001b[0;32m     38\u001b[0m             \u001b[38;5;28;01mreturn\u001b[39;00m \u001b[38;5;124m'\u001b[39m\u001b[38;5;124mYour victims are saved for a little longer....muhahaha\u001b[39m\u001b[38;5;124m'\u001b[39m\n\u001b[1;32m---> 41\u001b[0m \u001b[38;5;28mprint\u001b[39m(\u001b[43mrun\u001b[49m\u001b[43m(\u001b[49m\u001b[43m)\u001b[49m)\n",
      "Input \u001b[1;32mIn [61]\u001b[0m, in \u001b[0;36mrun\u001b[1;34m()\u001b[0m\n\u001b[0;32m     29\u001b[0m \u001b[38;5;28;01mdef\u001b[39;00m \u001b[38;5;21mrun\u001b[39m():\n\u001b[0;32m     31\u001b[0m     \u001b[38;5;28;01mwhile\u001b[39;00m \u001b[38;5;28;01mTrue\u001b[39;00m:\n\u001b[1;32m---> 33\u001b[0m         choice \u001b[38;5;241m=\u001b[39m \u001b[38;5;28;43minput\u001b[39;49m\u001b[43m(\u001b[49m\u001b[38;5;124;43m\"\u001b[39;49m\u001b[38;5;124;43mWould you like to pick another lucky victim (y/n)? Type \u001b[39;49m\u001b[38;5;124;43m'\u001b[39;49m\u001b[38;5;124;43mquit\u001b[39;49m\u001b[38;5;124;43m'\u001b[39;49m\u001b[38;5;124;43m to quit. \u001b[39;49m\u001b[38;5;124;43m\"\u001b[39;49m\u001b[43m)\u001b[49m\n\u001b[0;32m     34\u001b[0m         clear_output()\n\u001b[0;32m     35\u001b[0m         \u001b[38;5;28;01mif\u001b[39;00m choice\u001b[38;5;241m.\u001b[39mlower() \u001b[38;5;241m==\u001b[39m \u001b[38;5;124m'\u001b[39m\u001b[38;5;124my\u001b[39m\u001b[38;5;124m'\u001b[39m:\n",
      "File \u001b[1;32m~\\AppData\\Local\\Programs\\Python\\Python39\\lib\\site-packages\\ipykernel\\kernelbase.py:1161\u001b[0m, in \u001b[0;36mKernel.raw_input\u001b[1;34m(self, prompt)\u001b[0m\n\u001b[0;32m   1157\u001b[0m \u001b[38;5;28;01mif\u001b[39;00m \u001b[38;5;129;01mnot\u001b[39;00m \u001b[38;5;28mself\u001b[39m\u001b[38;5;241m.\u001b[39m_allow_stdin:\n\u001b[0;32m   1158\u001b[0m     \u001b[38;5;28;01mraise\u001b[39;00m StdinNotImplementedError(\n\u001b[0;32m   1159\u001b[0m         \u001b[38;5;124m\"\u001b[39m\u001b[38;5;124mraw_input was called, but this frontend does not support input requests.\u001b[39m\u001b[38;5;124m\"\u001b[39m\n\u001b[0;32m   1160\u001b[0m     )\n\u001b[1;32m-> 1161\u001b[0m \u001b[38;5;28;01mreturn\u001b[39;00m \u001b[38;5;28;43mself\u001b[39;49m\u001b[38;5;241;43m.\u001b[39;49m\u001b[43m_input_request\u001b[49m\u001b[43m(\u001b[49m\n\u001b[0;32m   1162\u001b[0m \u001b[43m    \u001b[49m\u001b[38;5;28;43mstr\u001b[39;49m\u001b[43m(\u001b[49m\u001b[43mprompt\u001b[49m\u001b[43m)\u001b[49m\u001b[43m,\u001b[49m\n\u001b[0;32m   1163\u001b[0m \u001b[43m    \u001b[49m\u001b[38;5;28;43mself\u001b[39;49m\u001b[38;5;241;43m.\u001b[39;49m\u001b[43m_parent_ident\u001b[49m\u001b[43m[\u001b[49m\u001b[38;5;124;43m\"\u001b[39;49m\u001b[38;5;124;43mshell\u001b[39;49m\u001b[38;5;124;43m\"\u001b[39;49m\u001b[43m]\u001b[49m\u001b[43m,\u001b[49m\n\u001b[0;32m   1164\u001b[0m \u001b[43m    \u001b[49m\u001b[38;5;28;43mself\u001b[39;49m\u001b[38;5;241;43m.\u001b[39;49m\u001b[43mget_parent\u001b[49m\u001b[43m(\u001b[49m\u001b[38;5;124;43m\"\u001b[39;49m\u001b[38;5;124;43mshell\u001b[39;49m\u001b[38;5;124;43m\"\u001b[39;49m\u001b[43m)\u001b[49m\u001b[43m,\u001b[49m\n\u001b[0;32m   1165\u001b[0m \u001b[43m    \u001b[49m\u001b[43mpassword\u001b[49m\u001b[38;5;241;43m=\u001b[39;49m\u001b[38;5;28;43;01mFalse\u001b[39;49;00m\u001b[43m,\u001b[49m\n\u001b[0;32m   1166\u001b[0m \u001b[43m\u001b[49m\u001b[43m)\u001b[49m\n",
      "File \u001b[1;32m~\\AppData\\Local\\Programs\\Python\\Python39\\lib\\site-packages\\ipykernel\\kernelbase.py:1205\u001b[0m, in \u001b[0;36mKernel._input_request\u001b[1;34m(self, prompt, ident, parent, password)\u001b[0m\n\u001b[0;32m   1202\u001b[0m             \u001b[38;5;28;01mbreak\u001b[39;00m\n\u001b[0;32m   1203\u001b[0m \u001b[38;5;28;01mexcept\u001b[39;00m \u001b[38;5;167;01mKeyboardInterrupt\u001b[39;00m:\n\u001b[0;32m   1204\u001b[0m     \u001b[38;5;66;03m# re-raise KeyboardInterrupt, to truncate traceback\u001b[39;00m\n\u001b[1;32m-> 1205\u001b[0m     \u001b[38;5;28;01mraise\u001b[39;00m \u001b[38;5;167;01mKeyboardInterrupt\u001b[39;00m(\u001b[38;5;124m\"\u001b[39m\u001b[38;5;124mInterrupted by user\u001b[39m\u001b[38;5;124m\"\u001b[39m) \u001b[38;5;28;01mfrom\u001b[39;00m \u001b[38;5;28mNone\u001b[39m\n\u001b[0;32m   1206\u001b[0m \u001b[38;5;28;01mexcept\u001b[39;00m \u001b[38;5;167;01mException\u001b[39;00m:\n\u001b[0;32m   1207\u001b[0m     \u001b[38;5;28mself\u001b[39m\u001b[38;5;241m.\u001b[39mlog\u001b[38;5;241m.\u001b[39mwarning(\u001b[38;5;124m\"\u001b[39m\u001b[38;5;124mInvalid Message:\u001b[39m\u001b[38;5;124m\"\u001b[39m, exc_info\u001b[38;5;241m=\u001b[39m\u001b[38;5;28;01mTrue\u001b[39;00m)\n",
      "\u001b[1;31mKeyboardInterrupt\u001b[0m: Interrupted by user"
     ]
    }
   ],
   "source": [
    "from random import choice\n",
    "from time import sleep\n",
    "from IPython.display import clear_output\n",
    "\n",
    "class_list = ['Perry', 'Cassie', 'Dyonne', 'Aften', 'Chris', 'Kathy',' Steve','Raul', 'Tarun', 'Tyler','Katie', 'Kelsey', 'Teddie']\n",
    "\n",
    "class_dict = {}\n",
    "\n",
    "def random_selector(arr):\n",
    "\n",
    "    while True:\n",
    "        chosen = choice(arr)\n",
    "\n",
    "        if chosen in class_dict:\n",
    "            class_dict[chosen] += 1\n",
    "        else:\n",
    "            class_dict[chosen] = 1\n",
    "\n",
    "        if class_dict[chosen] > 1:\n",
    "            continue\n",
    "        else:\n",
    "            break\n",
    "    for z in range(5):\n",
    "        print('.', end=' ', flush=True)\n",
    "        sleep(0.5)\n",
    "  \n",
    "    return chosen\n",
    "\n",
    "def run():\n",
    "\n",
    "    while True:\n",
    "\n",
    "        choice = input(\"Would you like to pick another lucky victim (y/n)? Type 'quit' to quit. \")\n",
    "        clear_output()\n",
    "        if choice.lower() == 'y':\n",
    "            print(random_selector(class_list))\n",
    "        if choice.lower() in ['n', 'quit']:\n",
    "            return 'Your victims are saved for a little longer....muhahaha'\n",
    "            \n",
    "\n",
    "print(run())\n"
   ]
  },
  {
   "cell_type": "code",
   "execution_count": 74,
   "metadata": {},
   "outputs": [
    {
     "name": "stdout",
     "output_type": "stream",
     "text": [
      "[('Barney', 'Sharingan'), ('Lilly', 'Brown eyes'), ('Max', 'Blue eyes')]\n",
      "['Ryan', 'alex', 'Teddie', 'cassie', 'Raul']\n",
      "['Raul', 'Ryan', 'Teddie', 'alex', 'cassie']\n",
      "['Raul', 'Ryan', 'Teddie', 'alex', 'cassie']\n"
     ]
    }
   ],
   "source": [
    "# sorts variables in order\n",
    "# sorted(dict.values()) or dict.keys() or dict.items()\n",
    "# sorted create another copy of our iterable ** list\n",
    "#.sort sort and alter original list\n",
    "eye_balls = {\n",
    "    \"Max\": \"Blue eyes\",\n",
    "    \"Lilly\": \"Brown eyes\",\n",
    "    \"Barney\": \"Sharingan\"\n",
    "}\n",
    "# print(sorted(eye_balls.keys()))\n",
    "# print(sorted(eye_balls.values()))\n",
    "print(sorted(eye_balls.items()))\n",
    "\n",
    "new_list = [\"Ryan\", \"alex\", \"Teddie\", \"cassie\", \"Raul\"]\n",
    "print(new_list)\n",
    "print(sorted(new_list))\n",
    "\n",
    "new_list.sort()\n",
    "print(new_list)"
   ]
  },
  {
   "cell_type": "markdown",
   "metadata": {},
   "source": [
    "##### List with Dictionaries"
   ]
  },
  {
   "cell_type": "code",
   "execution_count": 78,
   "metadata": {},
   "outputs": [
    {
     "name": "stdout",
     "output_type": "stream",
     "text": [
      "Alex\n"
     ]
    }
   ],
   "source": [
    "my_list = [1, 3, 5, 3.5, 6.7, 12.8, \"mega man\", \"lando\", \"water bottle\"]\n",
    "\n",
    "my_list2 = [1, 45, 78, [\"Ryan\", \"Alex\", \"Tarun\"]]\n",
    "\n",
    "print(my_list2[3][1])"
   ]
  },
  {
   "cell_type": "code",
   "execution_count": 91,
   "metadata": {},
   "outputs": [
    {
     "name": "stdout",
     "output_type": "stream",
     "text": [
      "Poke Ball\n",
      "Great Ball\n",
      "Master Ball Lugia\n",
      "Ultra Ball Tauros\n"
     ]
    }
   ],
   "source": [
    "poke_balls = [\"Poke Ball\", \"Great Ball\", {\"Master Ball\": \"Lugia\", \"Ultra Ball\": \"Tauros\"}]\n",
    "\n",
    "# print(poke_balls)\n",
    "\n",
    "# pokeballs ={\"Master Ball\" : \"Mewtwo\"}\n",
    "# print(pokeballs['Master Ball'])\n",
    "# print(poke_balls[2][\"Master Ball\"])\n",
    "\n",
    "for i in range(len(poke_balls)):\n",
    "#     print(poke_balls[i])\n",
    "#     print(type(poke_balls[i]))\n",
    "    if isinstance(poke_balls[i], dict):\n",
    "        for k, v in poke_balls[i].items():\n",
    "            print(k, v)\n",
    "    else:\n",
    "        print(poke_balls[i])\n",
    "    \n"
   ]
  },
  {
   "cell_type": "markdown",
   "metadata": {},
   "source": [
    "##### Dictionaries with Lists"
   ]
  },
  {
   "cell_type": "code",
   "execution_count": 105,
   "metadata": {},
   "outputs": [
    {
     "name": "stdout",
     "output_type": "stream",
     "text": [
      "[54, 90, 10]\n",
      "54\n",
      "54\n",
      "90\n",
      "10\n",
      "Perry \n",
      "\n",
      "Tarun \n",
      "\n",
      "Raul \n",
      "\n",
      "Perry\n",
      "Tarun\n",
      "Raul\n"
     ]
    }
   ],
   "source": [
    "# be careful when using numbers as keys in dictionaries, don't confuse them with indexes\n",
    "random_data = {\n",
    "    \"list_1\": [54, 90, 10],\n",
    "    \"name_list\": [\"Perry\", \"Tarun\", \"Raul\"]\n",
    "}\n",
    "\n",
    "print(random_data[\"list_1\"])\n",
    "print(random_data[\"list_1\"][0])\n",
    "\n",
    "for val in random_data[\"list_1\"]:\n",
    "    print(val)\n",
    "    \n",
    "for name in random_data[\"name_list\"]:\n",
    "    print(name, \"\\n\")\n",
    "    \n",
    "    \n",
    "for i in range(len(random_data[\"name_list\"])):\n",
    "    print(random_data[\"name_list\"][i])\n",
    "\n"
   ]
  },
  {
   "cell_type": "markdown",
   "metadata": {},
   "source": [
    "##### Dictionaries with Dictionaries"
   ]
  },
  {
   "cell_type": "code",
   "execution_count": 115,
   "metadata": {},
   "outputs": [],
   "source": [
    "# to get values, must traverse through keys\n",
    "\n",
    "food_dict = {\n",
    "    \"Ryan\": {\n",
    "        \"desserts\": [\"Pie\", \"chocolate chip cookes\", \"ice cream\", \"muffins\"],\n",
    "        \"noodles\": [\"Ramen\", \"Pho\", \"Shells\"],\n",
    "        \"hispanic\": [\"Tacos\", \"Tacos\", \"Tacos\"]\n",
    "        \n",
    "    },\n",
    "        'Alex': {\n",
    "            'hispanic': ['Pupusas', 'Tamales', 'Arepas'],\n",
    "            'italian' : ['Lasagna', 'Spaghetti', 'Pizza'],\n",
    "            'sweets': ['Ice Cream', 'Canolis', 'Souffle']\n",
    "        },\n",
    "       \n",
    "        \"Teddie\": {\n",
    "            \"desserts\": [\"creme brulee\", \"gelato\"],\n",
    "            \"noodles\": [\"ramen\", \"spagetti\"],\n",
    "            \"thai\": [\"moo ping\", \"gung pow\", \"pad thai\"]\n",
    "    },\n",
    "         \"Aften\" : {\n",
    "            \"Cheeses\": [\"Melted\", \"Extra Sharp Cheddar\", \"Halloumi\", \"Goat\"],\n",
    "            \"Pickles\" : [\"Dill\", \"Zesty\", \"Kosher\", \"Fried\"],\n",
    "            \"Breads\" : [\"Gluten Free\", \"Without Gluten\", \"Gluten-less\", \"Sans Gluten\"]\n",
    "    },\n",
    "        'Tarun': {\n",
    "            'desserts': ['Pie', 'cookie dough', 'cupcakes'],\n",
    "            'indian': ['butter chicken', 'paneer bhurji', 'garlic naan'],\n",
    "            'korean': ['bibimbap', 'jjajangmyeon', 'wings']\n",
    "    },\n",
    "        \"Dyonne\": {\n",
    "            \"desserts\": [\"chocolate chip cookies\", \"brownies\", \"ice cream\"],\n",
    "            \"seafood\": [\"crab\", \"shrimp\", \"crawfish\"],\n",
    "            \"beverages\": [\"water\", \"margarita\", \"red wine\"]\n",
    "    },\n",
    "    \"Kelsey\": {\n",
    "        \"noodles\": [\"rigatoni\", \"ramen\", \"tortellini\"],\n",
    "        \"desserts\": [\"chocolate\", \"cookies\", \"ice cream\"],\n",
    "        \"hispanic\": [\"tacos\", \"Enchiladas\"]\n",
    "    },\n",
    "     \"Steve\": {\n",
    "        \"desserts\": [\"anything chocolate\", \"cherry pie\", \"fresh fruit\"],\n",
    "        \"noodles\": [\"ramen\", \"pho\", \"udon\"],\n",
    "        \"hispanic\": [\"tacos\", \"nachos\", \"tostados\"]\n",
    "    },\n",
    "     \"Katie\": {\n",
    "        \"desserts\": [\"chocolate chip cookies\", \"ice cream\", \"cake\"],\n",
    "        \"eggs\": [\"skillet\", \"scrambled\", \"over medium\"],\n",
    "        \"pizza\": [\"margerita\",\"cheese\",\"deep dish\"]\n",
    "        \n",
    "    },\n",
    "      \"Raul\" : {\n",
    "        \"desserts\": [\"Cheesecake\", \"chocolate chip cookies\", \"Ice crem\", ],\n",
    "        \"noodles\": [\"Ramen\", \"Spaguettis\"],\n",
    "        \"Cuban\": [\"Congris\", \"Rosted pork\", \"Fried plantain\"]\n",
    "        \n",
    "    },\n",
    "       \"Kathy\": {\n",
    "        \"desserts\": [\"ice cream\", \"lava cake\", \"donuts\"],\n",
    "        \"asian\": [\"ramen\", \"sushi\", \"kbbq\"],\n",
    "        \"american\": [\"burgers\", \"pizza\", \"buffalo chicken dip\"],\n",
    "    },\n",
    "    \"Perry\": {\n",
    "        \"sweets\": ['bear claw', 'twinkeis', 'red velvet'],\n",
    "        \"assorted\": ['cheeseburgers', 'steak', 'hummus'],\n",
    "        \"asian\": ['tteokbakki', 'larb', 'tofu skins']\n",
    "    },\n",
    "  \"Chris\" : {\n",
    "\t\t\"Noods\": [\"naengmyeon\", \"jjajangmyeon\", \"ramen\", \"udon\"],\n",
    "\t\t\"Indian\": [\"Paneer Makhani\", \"Goat Biryani\", \"Garlic Naan\"],\n",
    "\t\t\"College\": [\"Pizza\", \"Mayo Bread\", \"pork sandwhich\"]\n",
    "\t},\n",
    "     'Cassandra': {\n",
    "        'cheese': ['blue cheese', 'pepperjack', 'smoked gouda'],\n",
    "        'donuts': ['custard filled', 'raspberry filled', 'apple cider']\n",
    "        'fruits': ['mangos', 'kiwi', 'bananas']\n",
    "    }\n",
    "\n",
    "\n",
    "    \n",
    "}\n",
    "\n",
    "\n",
    "    \n",
    "\n",
    "    \n",
    "    \n",
    "\n",
    "\n",
    "\n",
    "\n",
    "    \n"
   ]
  },
  {
   "cell_type": "code",
   "execution_count": 121,
   "metadata": {},
   "outputs": [
    {
     "name": "stdout",
     "output_type": "stream",
     "text": [
      "\n",
      "Here are all our foods listed: \n",
      "\n",
      "\n",
      "Ryan's favorite foods are: \n",
      "Pie\n",
      "chocolate chip cookes\n",
      "ice cream\n",
      "muffins\n",
      "Ramen\n",
      "Pho\n",
      "Shells\n",
      "Tacos\n",
      "Tacos\n",
      "Tacos\n",
      "\n",
      "Alex's favorite foods are: \n",
      "Pupusas\n",
      "Tamales\n",
      "Arepas\n",
      "Lasagna\n",
      "Spaghetti\n",
      "Pizza\n",
      "Ice Cream\n",
      "Canolis\n",
      "Souffle\n",
      "\n",
      "Teddie's favorite foods are: \n",
      "creme brulee\n",
      "gelato\n",
      "ramen\n",
      "spagetti\n",
      "moo ping\n",
      "gung pow\n",
      "pad thai\n",
      "\n",
      "Aften's favorite foods are: \n",
      "Melted\n",
      "Extra Sharp Cheddar\n",
      "Halloumi\n",
      "Goat\n",
      "Dill\n",
      "Zesty\n",
      "Kosher\n",
      "Fried\n",
      "Gluten Free\n",
      "Without Gluten\n",
      "Gluten-less\n",
      "Sans Gluten\n",
      "\n",
      "Tarun's favorite foods are: \n",
      "Pie\n",
      "cookie dough\n",
      "cupcakes\n",
      "butter chicken\n",
      "paneer bhurji\n",
      "garlic naan\n",
      "bibimbap\n",
      "jjajangmyeon\n",
      "wings\n",
      "\n",
      "Dyonne's favorite foods are: \n",
      "chocolate chip cookies\n",
      "brownies\n",
      "ice cream\n",
      "crab\n",
      "shrimp\n",
      "crawfish\n",
      "water\n",
      "margarita\n",
      "red wine\n",
      "\n",
      "Kelsey's favorite foods are: \n",
      "rigatoni\n",
      "ramen\n",
      "tortellini\n",
      "chocolate\n",
      "cookies\n",
      "ice cream\n",
      "tacos\n",
      "Enchiladas\n",
      "\n",
      "Steve's favorite foods are: \n",
      "anything chocolate\n",
      "cherry pie\n",
      "fresh fruit\n",
      "ramen\n",
      "pho\n",
      "udon\n",
      "tacos\n",
      "nachos\n",
      "tostados\n",
      "\n",
      "Katie's favorite foods are: \n",
      "chocolate chip cookies\n",
      "ice cream\n",
      "cake\n",
      "skillet\n",
      "scrambled\n",
      "over medium\n",
      "margerita\n",
      "cheese\n",
      "deep dish\n",
      "\n",
      "Raul's favorite foods are: \n",
      "Cheesecake\n",
      "chocolate chip cookies\n",
      "Ice crem\n",
      "Ramen\n",
      "Spaguettis\n",
      "Congris\n",
      "Rosted pork\n",
      "Fried plantain\n",
      "\n",
      "Kathy's favorite foods are: \n",
      "ice cream\n",
      "lava cake\n",
      "donuts\n",
      "ramen\n",
      "sushi\n",
      "kbbq\n",
      "burgers\n",
      "pizza\n",
      "buffalo chicken dip\n",
      "\n",
      "Perry's favorite foods are: \n",
      "bear claw\n",
      "twinkeis\n",
      "red velvet\n",
      "cheeseburgers\n",
      "steak\n",
      "hummus\n",
      "tteokbakki\n",
      "larb\n",
      "tofu skins\n",
      "\n",
      "Chris's favorite foods are: \n",
      "naengmyeon\n",
      "jjajangmyeon\n",
      "ramen\n",
      "udon\n",
      "Paneer Makhani\n",
      "Goat Biryani\n",
      "Garlic Naan\n"
     ]
    }
   ],
   "source": [
    "#print all foods\n",
    "print(\"\\nHere are all our foods listed: \\n\")\n",
    "for name in food_dict.keys():\n",
    "    print(f\"\\n{name}'s favorite foods are: \")\n",
    "    for food_type in food_dict[name].keys():\n",
    "        for food in food_dict[name][food_type]:\n",
    "            print(food)\n",
    "            \n",
    "# food_dict = {\n",
    "#     \"Ryan\": {\n",
    "#         \"desserts\": [\"Pie\", \"chocolate chip cookes\", \"ice cream\", \"muffins\"],\n",
    "#         \"noodles\": [\"Ramen\", \"Pho\", \"Shells\"],\n",
    "#         \"hispanic\": [\"Tacos\", \"Tacos\", \"Tacos\"]\n",
    "        \n",
    "#     },\n",
    "#     'Alex': {\n",
    "#         'hispanic': ['Pupusas', 'Tamales', 'Arepas'],\n",
    "#         'italian' : ['Lasagna', 'Spaghetti', 'Pizza'],\n",
    "#         'sweets': ['Ice Cream', 'Canolis', 'Souffle']\n",
    "#         },"
   ]
  },
  {
   "cell_type": "code",
   "execution_count": 120,
   "metadata": {
    "scrolled": false
   },
   "outputs": [
    {
     "name": "stdout",
     "output_type": "stream",
     "text": [
      "\n",
      "Here are our favorite foods: \n",
      "\n",
      "desserts\n",
      "noodles\n",
      "hispanic\n",
      "hispanic\n",
      "italian\n",
      "sweets\n",
      "desserts\n",
      "noodles\n",
      "thai\n",
      "Cheeses\n",
      "Pickles\n",
      "Breads\n",
      "desserts\n",
      "indian\n",
      "korean\n",
      "desserts\n",
      "seafood\n",
      "beverages\n",
      "noodles\n",
      "desserts\n",
      "hispanic\n",
      "desserts\n",
      "noodles\n",
      "hispanic\n",
      "desserts\n",
      "eggs\n",
      "pizza\n",
      "desserts\n",
      "noodles\n",
      "Cuban\n",
      "desserts\n",
      "asian\n",
      "american\n",
      "sweets\n",
      "assorted\n",
      "asian\n",
      "Noods\n",
      "Indian\n"
     ]
    }
   ],
   "source": [
    "#Everyone's favorite foods\n",
    "print(\"\\nHere are our favorite foods: \\n\")\n",
    "for name in food_dict.keys():\n",
    "    for food_type in food_dict[name].keys():\n",
    "        print(food_type)"
   ]
  },
  {
   "cell_type": "code",
   "execution_count": 117,
   "metadata": {},
   "outputs": [
    {
     "name": "stdout",
     "output_type": "stream",
     "text": [
      "Pie\n",
      "chocolate chip cookes\n",
      "ice cream\n",
      "muffins\n",
      "Ryan {'desserts': ['Pie', 'chocolate chip cookes', 'ice cream', 'muffins'], 'noodles': ['Ramen', 'Pho', 'Shells'], 'hispanic': ['Tacos', 'Tacos', 'Tacos']}\n",
      "Alex {'hispanic': ['Pupusas', 'Tamales', 'Arepas'], 'italian': ['Lasagna', 'Spaghetti', 'Pizza'], 'sweets': ['Ice Cream', 'Canolis', 'Souffle']}\n",
      "Teddie {'desserts': ['creme brulee', 'gelato'], 'noodles': ['ramen', 'spagetti'], 'thai': ['moo ping', 'gung pow', 'pad thai']}\n",
      "Aften {'Cheeses': ['Melted', 'Extra Sharp Cheddar', 'Halloumi', 'Goat'], 'Pickles': ['Dill', 'Zesty', 'Kosher', 'Fried'], 'Breads': ['Gluten Free', 'Without Gluten', 'Gluten-less', 'Sans Gluten']}\n",
      "Tarun {'desserts': ['Pie', 'cookie dough', 'cupcakes'], 'indian': ['butter chicken', 'paneer bhurji', 'garlic naan'], 'korean': ['bibimbap', 'jjajangmyeon', 'wings']}\n",
      "Dyonne {'desserts': ['chocolate chip cookies', 'brownies', 'ice cream'], 'seafood': ['crab', 'shrimp', 'crawfish'], 'beverages': ['water', 'margarita', 'red wine']}\n",
      "Kelsey {'noodles': ['rigatoni', 'ramen', 'tortellini'], 'desserts': ['chocolate', 'cookies', 'ice cream'], 'hispanic': ['tacos', 'Enchiladas']}\n",
      "Steve {'desserts': ['anything chocolate', 'cherry pie', 'fresh fruit'], 'noodles': ['ramen', 'pho', 'udon'], 'hispanic': ['tacos', 'nachos', 'tostados']}\n",
      "Katie {'desserts': ['chocolate chip cookies', 'ice cream', 'cake'], 'eggs': ['skillet', 'scrambled', 'over medium'], 'pizza': ['margerita', 'cheese', 'deep dish']}\n",
      "Raul {'desserts': ['Cheesecake', 'chocolate chip cookies', 'Ice crem'], 'noodles': ['Ramen', 'Spaguettis'], 'Cuban': ['Congris', 'Rosted pork', 'Fried plantain']}\n",
      "Kathy {'desserts': ['ice cream', 'lava cake', 'donuts'], 'asian': ['ramen', 'sushi', 'kbbq'], 'american': ['burgers', 'pizza', 'buffalo chicken dip']}\n",
      "Perry {'sweets': ['bear claw', 'twinkeis', 'red velvet'], 'assorted': ['cheeseburgers', 'steak', 'hummus'], 'asian': ['tteokbakki', 'larb', 'tofu skins']}\n",
      "Chris {'Noods': ['naengmyeon', 'jjajangmyeon', 'ramen', 'udon'], 'Indian': ['Paneer Makhani', 'Goat Biryani', 'Garlic Naan']}\n"
     ]
    }
   ],
   "source": [
    "for dessert in food_dict[\"Ryan\"][\"desserts\"]:\n",
    "    print(dessert)\n",
    "    \n",
    "for key, values in food_dict.items():\n",
    "    print(key, values)"
   ]
  },
  {
   "cell_type": "code",
   "execution_count": null,
   "metadata": {},
   "outputs": [],
   "source": []
  },
  {
   "cell_type": "markdown",
   "metadata": {},
   "source": [
    "## Dictionaries vs. Lists (over time) Example of RUNTIME\n",
    "### When inputting values in a Dictionary vs List"
   ]
  },
  {
   "cell_type": "code",
   "execution_count": 126,
   "metadata": {},
   "outputs": [],
   "source": [
    "import time\n",
    "\n",
    "#Generate a dictionary\n",
    "d = {}\n",
    "\n",
    "for i in range(10000000):\n",
    "    d[i] = \"value \" + str(i)\n",
    "    \n",
    "#generate a list\n",
    "big_list = [x for x in range(10000000)]\n"
   ]
  },
  {
   "cell_type": "code",
   "execution_count": 146,
   "metadata": {},
   "outputs": [
    {
     "name": "stdout",
     "output_type": "stream",
     "text": [
      "value 9999999\n",
      "Elapsed Time for dictionary: 0.0\n",
      "999999\n",
      "Elapsed Time for list: 0.42909717559814453\n",
      "9999999\n",
      "Elapsed time for list with a known position 0.0\n"
     ]
    }
   ],
   "source": [
    "#track the time for the dictionary\n",
    "\n",
    "start_time = time.time()\n",
    "print(d[9999999])\n",
    "end_time = time.time() - start_time\n",
    "print(f\"Elapsed Time for dictionary: {end_time}\")\n",
    "\n",
    "#track time for the list\n",
    "start_time = time.time()\n",
    "\n",
    "for i in range(len(big_list)):\n",
    "    if i == 999999:\n",
    "        print(i)\n",
    "        \n",
    "end_time = time.time() - start_time\n",
    "print(f\"Elapsed Time for list: {end_time}\")\n",
    "\n",
    "# Tracking time for the list with known position\n",
    "start_time = time.time()\n",
    "print(big_list[-1])\n",
    "\n",
    "end_time = time.time() - start_time\n",
    "print(f\"Elapsed time for list with a known position {end_time}\")\n",
    "\n",
    "\n",
    "        \n",
    "\n",
    "\n",
    "\n",
    "\n"
   ]
  },
  {
   "cell_type": "markdown",
   "metadata": {},
   "source": [
    "## Exercise #3 - Write a Function that asks someone's name and address, and then stores that into a dictionary, and continues to do so until they choose to 'quit'. Once they quit, the program should print all names and addresses. <br>\n",
    "<p>\n",
    "<b>Proper steps:</b><br>\n",
    "step 1: write a function that takes in information and stores it in a dictionary<br>\n",
    "step 2: define an empty dictionary to work with<br>\n",
    "step 3: create our loop, which asks the user for information until they quit<br>\n",
    "step 4: ask for the information, and store it into variables<br>\n",
    "step 5: check if the user types quit<br>\n",
    "step 5a: print out all information<br>\n",
    "step 5b: break out of the loop<br>\n",
    "step 6: if they didn't quit, add the information to the dictionary<br>\n",
    "step 7: invoke the function by calling it\n",
    "</p>"
   ]
  },
  {
   "cell_type": "code",
   "execution_count": 180,
   "metadata": {},
   "outputs": [
    {
     "name": "stdout",
     "output_type": "stream",
     "text": [
      "Your victims are saved for a little longer....muhahaha\n"
     ]
    }
   ],
   "source": [
    "from random import choice\n",
    "from time import sleep\n",
    "from IPython.display import clear_output\n",
    "\n",
    "class_list = ['Perry', 'Cassie', 'Dyonne', 'Aften', 'Chris', 'Kathy',' Steve','Raul', 'Tarun', 'Tyler','Katie', 'Kelsey', 'Teddie']\n",
    "\n",
    "class_dict = {}\n",
    "\n",
    "def random_selector(arr):\n",
    "\n",
    "    while True:\n",
    "        chosen = choice(arr)\n",
    "\n",
    "        if chosen in class_dict:\n",
    "            class_dict[chosen] += 1\n",
    "        else:\n",
    "            class_dict[chosen] = 1\n",
    "\n",
    "        if class_dict[chosen] > 1:\n",
    "            continue\n",
    "        else:\n",
    "            break\n",
    "    for z in range(5):\n",
    "        print('.', end=' ', flush=True)\n",
    "        sleep(0.5)\n",
    "  \n",
    "    return chosen\n",
    "\n",
    "def run():\n",
    "\n",
    "    while True:\n",
    "\n",
    "        choice = input(\"Would you like to pick another lucky victim (y/n)? Type 'quit' to quit. \")\n",
    "        clear_output()\n",
    "        if choice.lower() == 'y':\n",
    "            print(random_selector(class_list))\n",
    "        if choice.lower() in ['n', 'quit']:\n",
    "            return 'Your victims are saved for a little longer....muhahaha'\n",
    "            \n",
    "\n",
    "print(run())\n"
   ]
  },
  {
   "cell_type": "code",
   "execution_count": 182,
   "metadata": {},
   "outputs": [
    {
     "name": "stdout",
     "output_type": "stream",
     "text": [
      "Enter a name or say 'quit' to quit: quit\n"
     ]
    }
   ],
   "source": [
    "from IPython.display import clear_output\n",
    "\n",
    "# Step 1\n",
    "def storeInfo():\n",
    "    #step 2\n",
    "    d = {}\n",
    "    \n",
    "    #step 3\n",
    "    while True:\n",
    "        #step 4\n",
    "        name = input(\"Enter a name or say 'quit' to quit: \")\n",
    "        if name.lower().strip() != \"quit\":\n",
    "            address = input(\"Enter an address or say 'quit' to quit: \")\n",
    "            clear_output()\n",
    "        \n",
    "        # Step 5\n",
    "        if name.lower().strip() == \"quit\" or address.lower().strip() == \"quit\":\n",
    "            #Step 5a\n",
    "            for name, address in d.items():\n",
    "                print(f\"The address for {name} is {address}\")\n",
    "            #Step 5b\n",
    "            break\n",
    "            \n",
    "        #Step 6\n",
    "        d[name] = address\n",
    "        \n",
    "#step 7\n",
    "storeInfo()\n",
    "        \n",
    "    \n",
    "    \n",
    "        "
   ]
  },
  {
   "cell_type": "markdown",
   "metadata": {},
   "source": [
    "## Set <br>\n",
    "<p>A Set is an unordered collection data type that is iterable (loop), mutable, and has no duplicate elements.<br>Major advantage is that it is highly optimized in checking if something is in the set, as opposed to checking if something is in a list.</p>"
   ]
  },
  {
   "cell_type": "markdown",
   "metadata": {},
   "source": [
    "##### Declaring"
   ]
  },
  {
   "cell_type": "code",
   "execution_count": 154,
   "metadata": {},
   "outputs": [
    {
     "name": "stdout",
     "output_type": "stream",
     "text": [
      "{8, 1, 4}\n",
      "3\n",
      "['__and__', '__class__', '__class_getitem__', '__contains__', '__delattr__', '__dir__', '__doc__', '__eq__', '__format__', '__ge__', '__getattribute__', '__gt__', '__hash__', '__iand__', '__init__', '__init_subclass__', '__ior__', '__isub__', '__iter__', '__ixor__', '__le__', '__len__', '__lt__', '__ne__', '__new__', '__or__', '__rand__', '__reduce__', '__reduce_ex__', '__repr__', '__ror__', '__rsub__', '__rxor__', '__setattr__', '__sizeof__', '__str__', '__sub__', '__subclasshook__', '__xor__', 'add', 'clear', 'copy', 'difference', 'difference_update', 'discard', 'intersection', 'intersection_update', 'isdisjoint', 'issubset', 'issuperset', 'pop', 'remove', 'symmetric_difference', 'symmetric_difference_update', 'union', 'update']\n"
     ]
    }
   ],
   "source": [
    "# set() or {}\n",
    "# no order {3, 2, 1} outputs as {1, 2, 3}\n",
    "\n",
    "our_set = set()\n",
    "\n",
    "nums = {1, 8, 4}\n",
    "\n",
    "print(nums)\n",
    "print(len(nums))\n",
    "print(dir(nums))\n"
   ]
  },
  {
   "cell_type": "markdown",
   "metadata": {},
   "source": [
    "##### .add()"
   ]
  },
  {
   "cell_type": "code",
   "execution_count": 165,
   "metadata": {},
   "outputs": [
    {
     "name": "stdout",
     "output_type": "stream",
     "text": [
      "{8, 1, 4, 22}\n"
     ]
    }
   ],
   "source": [
    "# set.add()\n",
    "nums = {1, 8, 4}\n",
    "nums.add(22)\n",
    "nums.add(22)\n",
    "print(nums)\n",
    "\n"
   ]
  },
  {
   "cell_type": "markdown",
   "metadata": {},
   "source": [
    "##### .remove()"
   ]
  },
  {
   "cell_type": "code",
   "execution_count": 166,
   "metadata": {},
   "outputs": [
    {
     "name": "stdout",
     "output_type": "stream",
     "text": [
      "{8, 1, 4}\n"
     ]
    }
   ],
   "source": [
    "# removes by value\n",
    "# set.remove()\n",
    "# nums.remove(56)\n",
    "nums.remove(22)\n",
    "print(nums)\n"
   ]
  },
  {
   "cell_type": "markdown",
   "metadata": {},
   "source": [
    "##### .union() "
   ]
  },
  {
   "cell_type": "code",
   "execution_count": 171,
   "metadata": {},
   "outputs": [
    {
     "name": "stdout",
     "output_type": "stream",
     "text": [
      "{1, 2, 3, 4, 5, 6}\n",
      "{1, 2, 3, 4, 5, 6}\n"
     ]
    }
   ],
   "source": [
    "# Returns a union of two sets, can also use '|' or set.union(set)\n",
    "# joins all numbers, gets rid of duplicates\n",
    "\n",
    "s1 = {1, 2, 3, 4}\n",
    "s2 = {3, 4, 5, 6}\n",
    "\n",
    "s3 = s1.union(s2)\n",
    "\n",
    "# or\n",
    "\n",
    "s4 = s2 | s1\n",
    "\n",
    "print(s3)\n",
    "print(s4)\n",
    "\n"
   ]
  },
  {
   "cell_type": "markdown",
   "metadata": {},
   "source": [
    "##### .intersection()"
   ]
  },
  {
   "cell_type": "code",
   "execution_count": 172,
   "metadata": {},
   "outputs": [
    {
     "name": "stdout",
     "output_type": "stream",
     "text": [
      "{3, 4}\n",
      "{3, 4}\n"
     ]
    }
   ],
   "source": [
    "# Returns an intersection of two sets, can also use '&'\n",
    "# only takes similar elements from both sets\n",
    "\n",
    "s1 = {1, 2, 3, 4}\n",
    "s2 = {3, 4, 5, 6}\n",
    "\n",
    "s5 = s1.intersection(s2)\n",
    "\n",
    "# or\n",
    "\n",
    "s6 = s2 & s1\n",
    "\n",
    "print(s5)\n",
    "print(s6)"
   ]
  },
  {
   "cell_type": "markdown",
   "metadata": {},
   "source": [
    "##### .difference()"
   ]
  },
  {
   "cell_type": "code",
   "execution_count": 173,
   "metadata": {},
   "outputs": [
    {
     "name": "stdout",
     "output_type": "stream",
     "text": [
      "{1, 2}\n",
      "{5, 6}\n"
     ]
    }
   ],
   "source": [
    "# Returns a set containing all the elements of invoking set that are not in the second set, can also use '-'\n",
    "# only takes values from the first set that are not in the second set\n",
    "# order matters\n",
    "s1 = {1, 2, 3, 4}\n",
    "s2 = {3, 4, 5, 6}\n",
    "\n",
    "s7 = s1 - s2\n",
    "\n",
    "# or \n",
    "\n",
    "s8 = s2.difference(s1)\n",
    "\n",
    "print(s7)\n",
    "print(s8)\n",
    "\n",
    "\n"
   ]
  },
  {
   "cell_type": "markdown",
   "metadata": {},
   "source": [
    "##### .clear()"
   ]
  },
  {
   "cell_type": "code",
   "execution_count": 175,
   "metadata": {},
   "outputs": [
    {
     "name": "stdout",
     "output_type": "stream",
     "text": [
      "{5, 6}\n",
      "set()\n"
     ]
    }
   ],
   "source": [
    "# Empties the whole set\n",
    "# set.clear()\n",
    "print(s8)\n",
    "s8.clear()\n",
    "print(s8)"
   ]
  },
  {
   "cell_type": "code",
   "execution_count": null,
   "metadata": {},
   "outputs": [],
   "source": []
  },
  {
   "cell_type": "markdown",
   "metadata": {},
   "source": [
    "##### Frozenset <br>\n",
    "<p>Frozen sets are immutable objects that only support methods and operators that produce a result without affecting the frozen set or sets to which they are applied.</p><br><b>Unique & Immutable</b>"
   ]
  },
  {
   "cell_type": "code",
   "execution_count": 178,
   "metadata": {},
   "outputs": [
    {
     "name": "stdout",
     "output_type": "stream",
     "text": [
      "frozenset({1, 2, 3, 4})\n"
     ]
    },
    {
     "ename": "AttributeError",
     "evalue": "'frozenset' object has no attribute 'add'",
     "output_type": "error",
     "traceback": [
      "\u001b[1;31m---------------------------------------------------------------------------\u001b[0m",
      "\u001b[1;31mAttributeError\u001b[0m                            Traceback (most recent call last)",
      "Input \u001b[1;32mIn [178]\u001b[0m, in \u001b[0;36m<cell line: 7>\u001b[1;34m()\u001b[0m\n\u001b[0;32m      3\u001b[0m my_frozen_set \u001b[38;5;241m=\u001b[39m \u001b[38;5;28mfrozenset\u001b[39m(s1)\n\u001b[0;32m      5\u001b[0m \u001b[38;5;28mprint\u001b[39m(my_frozen_set)\n\u001b[1;32m----> 7\u001b[0m \u001b[43mmy_frozen_set\u001b[49m\u001b[38;5;241;43m.\u001b[39;49m\u001b[43madd\u001b[49m(\u001b[38;5;241m15\u001b[39m)\n",
      "\u001b[1;31mAttributeError\u001b[0m: 'frozenset' object has no attribute 'add'"
     ]
    }
   ],
   "source": [
    "# frozenset([])\n",
    "s1 = {1, 2, 3, 4}\n",
    "my_frozen_set = frozenset(s1)\n",
    "\n",
    "print(my_frozen_set)\n",
    "\n",
    "my_frozen_set.add(15)\n",
    "\n",
    "\n",
    "\n"
   ]
  },
  {
   "cell_type": "markdown",
   "metadata": {},
   "source": [
    "## Modules"
   ]
  },
  {
   "cell_type": "markdown",
   "metadata": {},
   "source": [
    "##### Importing Entire Modules"
   ]
  },
  {
   "cell_type": "code",
   "execution_count": 189,
   "metadata": {},
   "outputs": [
    {
     "name": "stdout",
     "output_type": "stream",
     "text": [
      "3.141592653589793\n",
      "4\n"
     ]
    }
   ],
   "source": [
    "# import \n",
    "# or \n",
    "# from 'xxx' import *\n",
    "from math import *\n",
    "\n",
    "print(delicious)\n",
    "print(ceil(delicious))"
   ]
  },
  {
   "cell_type": "markdown",
   "metadata": {},
   "source": [
    "##### Importing Methods Only"
   ]
  },
  {
   "cell_type": "code",
   "execution_count": 192,
   "metadata": {},
   "outputs": [
    {
     "name": "stdout",
     "output_type": "stream",
     "text": [
      "3.141592653589793\n",
      "3\n"
     ]
    }
   ],
   "source": [
    "# from 'xxx' import 'xxx'\n",
    "# from math import floor\n",
    "from math import floor, pi\n",
    "\n",
    "print(pi)\n",
    "print(floor(pi))\n"
   ]
  },
  {
   "cell_type": "markdown",
   "metadata": {},
   "source": [
    "##### Using the 'as' Keyword"
   ]
  },
  {
   "cell_type": "code",
   "execution_count": 193,
   "metadata": {},
   "outputs": [
    {
     "name": "stdout",
     "output_type": "stream",
     "text": [
      "3\n"
     ]
    }
   ],
   "source": [
    "# from 'xxx' import 'xxx' as 'xxx' or import 'xxx' as 'xxx'\n",
    "# from math import floor as f\n",
    "from math import floor as f, pi as p\n",
    "\n",
    "print(f(p))\n",
    "\n",
    "\n",
    "\n"
   ]
  },
  {
   "cell_type": "markdown",
   "metadata": {},
   "source": [
    "##### Creating a Module"
   ]
  },
  {
   "cell_type": "code",
   "execution_count": 194,
   "metadata": {},
   "outputs": [
    {
     "name": "stdout",
     "output_type": "stream",
     "text": [
      "Hello Mr/Ms Ryan...we've been waiting for you!\n"
     ]
    }
   ],
   "source": [
    "from module import printName as pn\n",
    "\n",
    "pn('Ryan')\n",
    "\n"
   ]
  },
  {
   "cell_type": "code",
   "execution_count": 196,
   "metadata": {},
   "outputs": [
    {
     "name": "stdout",
     "output_type": "stream",
     "text": [
      "Hello Mr/Ms ryan...we've been waiting for you!\n"
     ]
    }
   ],
   "source": [
    "def printName(name):\n",
    "    print(f\"Hello Mr/Ms {name}...we've been waiting for you!\")\n",
    "    \n",
    "printName(\"ryan\")"
   ]
  },
  {
   "cell_type": "markdown",
   "metadata": {},
   "source": [
    "# Exercises"
   ]
  },
  {
   "cell_type": "markdown",
   "metadata": {},
   "source": [
    "### 1) Build a Shopping Cart <br>\n",
    "<p><b>You can use either lists or dictionaries. The program should have the following capabilities:</b><br><br>\n",
    "1) Takes in input <br>\n",
    "2) Stores user input into a dictionary or list <br>\n",
    "3) The User can add or delete items <br>\n",
    "4) The User can see current shopping list <br>\n",
    "5) The program Loops until user 'quits' <br>\n",
    "6) Upon quiting the program, print out all items in the user's list <br>\n",
    "</p>"
   ]
  },
  {
   "cell_type": "code",
   "execution_count": null,
   "metadata": {},
   "outputs": [],
   "source": [
    "from shopping_cart import Cart\n",
    "\n",
    "def get_item():\n",
    "    return input(\"Type what item you would like to purchase: \")\n",
    "\n",
    "def start_cart():\n",
    "    cart = Cart()\n",
    "    while True:\n",
    "        action = input(\"What would you like to do? (Show/Add/Remove/Exit): \").lower()\n",
    "        if action == 'add':\n",
    "            item = get_item()\n",
    "            cart.add(item)\n",
    "        elif action == 'show':\n",
    "            cart.show()\n",
    "        elif action == 'remove':\n",
    "            item_to_remove = input(\"Which item would you like to remove? \")\n",
    "            cart.remove(item_to_remove)\n",
    "        elif action == 'exit':\n",
    "            break\n",
    "        else:\n",
    "            print('Invalid input! Please type one of \"Show\", \"Add\", \"Remove\", or \"Exit\"')\n",
    "    cart.show()\n",
    "\n",
    "if __name__ == \"__main__\":\n",
    "    start_cart()\n"
   ]
  },
  {
   "cell_type": "markdown",
   "metadata": {},
   "source": [
    "### 2) Create a Module in VS Code and Import It into jupyter notebook <br>\n",
    "<p><b>Module should have the following capabilities:</b><br><br>\n",
    "1) Has a function to calculate the square footage of a house <br>\n",
    "    <b>Reminder of Formula: Length X Width == Area<br>\n",
    "        <hr>\n",
    "2) Has a function to calculate the circumference of a circle <br><br>\n",
    "<b>Program in Jupyter Notebook should take in user input and use imported functions to calculate a circle's circumference or a houses square footage</b>\n",
    "</p>"
   ]
  },
  {
   "cell_type": "code",
   "execution_count": null,
   "metadata": {},
   "outputs": [],
   "source": [
    "import calculations \n",
    "\n",
    "choice = input(\"Choose calculation (1 for square footage, 2 for circumference): \")\n",
    "\n",
    "if choice == '1':\n",
    "    length = float(input(\"Enter the length of the house: \"))\n",
    "    width = float(input(\"Enter the width of the house: \"))\n",
    "    square_footage = calculations.calculate_square_footage(length, width)\n",
    "    print(f\"The square footage of the house is: {square_footage} square feet\")\n",
    "elif choice == '2':\n",
    "    radius = float(input(\"Enter the radius of the circle: \"))\n",
    "    circumference = calculations.calculate_circumference(radius)\n",
    "    print(f\"The circumference of the circle is: {circumference} units\")\n",
    "else:\n",
    "    print(\"Invalid choice\")"
   ]
  }
 ],
 "metadata": {
  "kernelspec": {
   "display_name": "Python 3 (ipykernel)",
   "language": "python",
   "name": "python3"
  },
  "language_info": {
   "codemirror_mode": {
    "name": "ipython",
    "version": 3
   },
   "file_extension": ".py",
   "mimetype": "text/x-python",
   "name": "python",
   "nbconvert_exporter": "python",
   "pygments_lexer": "ipython3",
   "version": "3.9.4"
  }
 },
 "nbformat": 4,
 "nbformat_minor": 2
}
